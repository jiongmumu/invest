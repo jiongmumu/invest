{
 "cells": [
  {
   "cell_type": "code",
   "execution_count": 4,
   "metadata": {},
   "outputs": [
    {
     "data": {
      "text/plain": [
       "<matplotlib.axes._subplots.AxesSubplot at 0x121b55390>"
      ]
     },
     "execution_count": 4,
     "metadata": {},
     "output_type": "execute_result"
    },
    {
     "data": {
      "image/png": "[encoded data removed]",
      "text/plain": [
       "<Figure size 432x288 with 1 Axes>"
      ]
     },
     "metadata": {
      "needs_background": "light"
     },
     "output_type": "display_data"
    }
   ],
   "source": [
    "import os\n",
    "from jqdatasdk import *\n",
    "\n",
    "\n",
    "auth(os.environ['JOINT_QUANT_USERNAME'],os.environ['JOINT_QUANT_PWD'])\n",
    "\n",
    "#查询平高电气\n",
    "pinggao_stock='600312.XSHG'\n",
    "\n",
    "df=finance.run_query(query(finance.STK_INCOME_STATEMENT).filter(finance.STK_INCOME_STATEMENT.code==pinggao_stock,finance.STK_INCOME_STATEMENT.pub_date>='2015-01-01').limit(3000))\n",
    "\n",
    "#试图将pub_date转换成datetime,结果发现它已经是了\n",
    "#df.index=df.pub_date.apply(lambda pub_date : datetime.strptime(pub_date, \"%y-%m-%d\"))\n",
    "\n",
    "df.index=df.pub_date\n",
    "#发现数据相同pub_date有不同值\n",
    "#找到相距的长度\n",
    "df['diff_end_start_date']=(df.end_date-df.start_date)\n",
    "#增加一个域记录相差天数\n",
    "df['start_end_days']=df.diff_end_start_date.apply(lambda d : d.days)\n",
    "df['start_end_days']\n",
    "\n",
    "#report_type 0 本期， 1 上期\n",
    "df.loc[((df.start_end_days ==90) | (df.start_end_days ==89))& (df.report_type==0),['total_operating_revenue','total_operating_cost']].plot.bar()"
   ]
  },
  {
   "cell_type": "code",
   "execution_count": null,
   "metadata": {},
   "outputs": [],
   "source": [
    "# 员工人数没啥意义，因为没有研究生以上人员比例\n",
    "q=query(finance.STK_EMPLOYEE_INFO).filter(finance.STK_EMPLOYEE_INFO.code==pinggao_stock,\n",
    "                                          finance.STK_EMPLOYEE_INFO.pub_date>='2015-01-01')\n",
    "df_emploee=finance.run_query(q)\n",
    "\n",
    "df_emploee.index=df_emploee.pub_date\n",
    "df_emploee.loc[:,'employee'].plot.bar()"
   ]
  },
  {
   "cell_type": "code",
   "execution_count": null,
   "metadata": {},
   "outputs": [],
   "source": []
  }
 ],
 "metadata": {
  "kernelspec": {
   "display_name": "Python 3",
   "language": "python",
   "name": "python3"
  },
  "language_info": {
   "codemirror_mode": {
    "name": "ipython",
    "version": 3
   },
   "file_extension": ".py",
   "mimetype": "text/x-python",
   "name": "python",
   "nbconvert_exporter": "python",
   "pygments_lexer": "ipython3",
   "version": "3.7.0"
  }
 },
 "nbformat": 4,
 "nbformat_minor": 2
}
